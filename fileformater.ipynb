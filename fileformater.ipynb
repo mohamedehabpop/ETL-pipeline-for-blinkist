{
 "cells": [
  {
   "cell_type": "code",
   "execution_count": null,
   "metadata": {},
   "outputs": [],
   "source": [
    "import pandas as pd\n",
    "\n",
    "# read the CSV file into a pandas DataFrame\n",
    "df = pd.read_csv('booksurl.csv')\n",
    "\n",
    "# keep only the rows that end with \"en\"\n",
    "df = df[df['book_url'].str.endswith('en')]\n",
    "\n",
    "# save the remaining rows to a new CSV file\n",
    "df.to_csv('links.csv',  index = False, header = True, encoding='utf-8')"
   ]
  }
 ],
 "metadata": {
  "kernelspec": {
   "display_name": "Python 3",
   "language": "python",
   "name": "python3"
  },
  "language_info": {
   "name": "python",
   "version": "3.10.7"
  },
  "orig_nbformat": 4,
  "vscode": {
   "interpreter": {
    "hash": "bcf3156e42c924e019736696b32abf1fe284236f2bdd771572f2f6f1e5f36244"
   }
  }
 },
 "nbformat": 4,
 "nbformat_minor": 2
}
